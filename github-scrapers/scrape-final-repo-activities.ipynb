{
 "cells": [
  {
   "cell_type": "code",
   "execution_count": 1,
   "metadata": {},
   "outputs": [],
   "source": [
    "import requests\n",
    "import pandas as pd\n",
    "df=pd.read_csv('repo-list-final-project.csv')"
   ]
  },
  {
   "cell_type": "markdown",
   "metadata": {},
   "source": [
    "You may change your own github_token in the `config.py`.\n",
    "You can just refer here https://github.com/settings/tokens. click `personal access tokens` --> `generate new token`"
   ]
  },
  {
   "cell_type": "code",
   "execution_count": 2,
   "metadata": {},
   "outputs": [
    {
     "data": {
      "text/plain": [
       "'6a7172f1c2775d629420be5ef98f4822a68d8d8d'"
      ]
     },
     "execution_count": 2,
     "metadata": {},
     "output_type": "execute_result"
    }
   ],
   "source": [
    "from config import github_token\n",
    "github_token"
   ]
  },
  {
   "cell_type": "code",
   "execution_count": 3,
   "metadata": {},
   "outputs": [
    {
     "data": {
      "text/html": [
       "<div>\n",
       "<style scoped>\n",
       "    .dataframe tbody tr th:only-of-type {\n",
       "        vertical-align: middle;\n",
       "    }\n",
       "\n",
       "    .dataframe tbody tr th {\n",
       "        vertical-align: top;\n",
       "    }\n",
       "\n",
       "    .dataframe thead th {\n",
       "        text-align: right;\n",
       "    }\n",
       "</style>\n",
       "<table border=\"1\" class=\"dataframe\">\n",
       "  <thead>\n",
       "    <tr style=\"text-align: right;\">\n",
       "      <th></th>\n",
       "      <th>helpers</th>\n",
       "      <th>project url</th>\n",
       "      <th>course code</th>\n",
       "      <th>present order</th>\n",
       "    </tr>\n",
       "  </thead>\n",
       "  <tbody>\n",
       "    <tr>\n",
       "      <th>0</th>\n",
       "      <td>FENG Yujin</td>\n",
       "      <td>https://github.com/Catmint1215/BigData-final-p...</td>\n",
       "      <td>COMM7780</td>\n",
       "      <td>7</td>\n",
       "    </tr>\n",
       "    <tr>\n",
       "      <th>1</th>\n",
       "      <td>Li Chenxi</td>\n",
       "      <td>https://github.com/ConnorLi96/survival-guide-o...</td>\n",
       "      <td>COMM7780</td>\n",
       "      <td>6</td>\n",
       "    </tr>\n",
       "    <tr>\n",
       "      <th>2</th>\n",
       "      <td>LIN Yitong</td>\n",
       "      <td>https://github.com/Graceyit/BigData-Final-Proj...</td>\n",
       "      <td>COMM7780</td>\n",
       "      <td>8</td>\n",
       "    </tr>\n",
       "    <tr>\n",
       "      <th>3</th>\n",
       "      <td>ZENG Sining</td>\n",
       "      <td>https://github.com/CelineTsang/The-Formula-Of-...</td>\n",
       "      <td>COMM7780</td>\n",
       "      <td>10</td>\n",
       "    </tr>\n",
       "    <tr>\n",
       "      <th>4</th>\n",
       "      <td>ZHANG Ning</td>\n",
       "      <td>https://github.com/iiiJenny/job_market_for_med...</td>\n",
       "      <td>COMM7780</td>\n",
       "      <td>9</td>\n",
       "    </tr>\n",
       "    <tr>\n",
       "      <th>5</th>\n",
       "      <td>ZHANG Shiyu</td>\n",
       "      <td>https://github.com/CathyChang1996/Behavior-tre...</td>\n",
       "      <td>COMM7780</td>\n",
       "      <td>11</td>\n",
       "    </tr>\n",
       "    <tr>\n",
       "      <th>6</th>\n",
       "      <td>XU Kaiwen</td>\n",
       "      <td>https://github.com/kaiwenxu94/Journalists-Killed</td>\n",
       "      <td>JOUR7280</td>\n",
       "      <td>5</td>\n",
       "    </tr>\n",
       "    <tr>\n",
       "      <th>7</th>\n",
       "      <td>XU Wen</td>\n",
       "      <td>https://github.com/warrior960812/Big-Data-Fina...</td>\n",
       "      <td>JOUR7280</td>\n",
       "      <td>2</td>\n",
       "    </tr>\n",
       "    <tr>\n",
       "      <th>8</th>\n",
       "      <td>YAO Lan</td>\n",
       "      <td>https://github.com/lullabymia/Final-Project-fo...</td>\n",
       "      <td>JOUR7280</td>\n",
       "      <td>3</td>\n",
       "    </tr>\n",
       "    <tr>\n",
       "      <th>9</th>\n",
       "      <td>ZHAI Menghan</td>\n",
       "      <td>https://github.com/Zmh951010/Group-Zhai-Mengha...</td>\n",
       "      <td>JOUR7280</td>\n",
       "      <td>4</td>\n",
       "    </tr>\n",
       "    <tr>\n",
       "      <th>10</th>\n",
       "      <td>ZHANG Jingwei</td>\n",
       "      <td>https://github.com/zhangjingwei0512/project</td>\n",
       "      <td>JOUR7280</td>\n",
       "      <td>1</td>\n",
       "    </tr>\n",
       "  </tbody>\n",
       "</table>\n",
       "</div>"
      ],
      "text/plain": [
       "          helpers                                        project url  \\\n",
       "0      FENG Yujin  https://github.com/Catmint1215/BigData-final-p...   \n",
       "1       Li Chenxi  https://github.com/ConnorLi96/survival-guide-o...   \n",
       "2      LIN Yitong  https://github.com/Graceyit/BigData-Final-Proj...   \n",
       "3     ZENG Sining  https://github.com/CelineTsang/The-Formula-Of-...   \n",
       "4      ZHANG Ning  https://github.com/iiiJenny/job_market_for_med...   \n",
       "5     ZHANG Shiyu  https://github.com/CathyChang1996/Behavior-tre...   \n",
       "6       XU Kaiwen   https://github.com/kaiwenxu94/Journalists-Killed   \n",
       "7          XU Wen  https://github.com/warrior960812/Big-Data-Fina...   \n",
       "8         YAO Lan  https://github.com/lullabymia/Final-Project-fo...   \n",
       "9    ZHAI Menghan  https://github.com/Zmh951010/Group-Zhai-Mengha...   \n",
       "10  ZHANG Jingwei        https://github.com/zhangjingwei0512/project   \n",
       "\n",
       "   course code  present order  \n",
       "0     COMM7780              7  \n",
       "1     COMM7780              6  \n",
       "2     COMM7780              8  \n",
       "3     COMM7780             10  \n",
       "4     COMM7780              9  \n",
       "5     COMM7780             11  \n",
       "6     JOUR7280              5  \n",
       "7     JOUR7280              2  \n",
       "8     JOUR7280              3  \n",
       "9     JOUR7280              4  \n",
       "10    JOUR7280              1  "
      ]
     },
     "execution_count": 3,
     "metadata": {},
     "output_type": "execute_result"
    }
   ],
   "source": [
    "df"
   ]
  },
  {
   "cell_type": "code",
   "execution_count": 4,
   "metadata": {},
   "outputs": [],
   "source": [
    "def get_repo(x):\n",
    "    return x.split('https://github.com/')[-1]\n",
    "\n",
    "repo_list= df['project url'].apply(get_repo)"
   ]
  },
  {
   "cell_type": "code",
   "execution_count": 5,
   "metadata": {},
   "outputs": [
    {
     "data": {
      "text/plain": [
       "0      Catmint1215/BigData-final-project-GoogleAppStore\n",
       "1          ConnorLi96/survival-guide-of-data-journalist\n",
       "2     Graceyit/BigData-Final-Project-woshipm.com/tre...\n",
       "3                       CelineTsang/The-Formula-Of-FFSO\n",
       "4                 iiiJenny/job_market_for_media_student\n",
       "5     CathyChang1996/Behavior-trend-of-self-service-...\n",
       "6                         kaiwenxu94/Journalists-Killed\n",
       "7       warrior960812/Big-Data-Final-Projcet-about-SCMP\n",
       "8           lullabymia/Final-Project-for-People-s-Daily\n",
       "9            Zmh951010/Group-Zhai-Menghan-REITs-Insight\n",
       "10                             zhangjingwei0512/project\n",
       "Name: project url, dtype: object"
      ]
     },
     "execution_count": 5,
     "metadata": {},
     "output_type": "execute_result"
    }
   ],
   "source": [
    "repo_list"
   ]
  },
  {
   "cell_type": "code",
   "execution_count": 6,
   "metadata": {},
   "outputs": [],
   "source": [
    "def get_activties(repo):\n",
    "    url = 'https://api.github.com/repos/{0}/events?page=1&per_page=100'.format(repo)\n",
    "    \n",
    "    r = requests.get(url,headers={\n",
    "    'User-Agent':'Mozilla/5.0',\n",
    "    'Authorization':'token {0}'.format(github_token),\n",
    "    'Content-Type':'application/json',\n",
    "    'method':'GET',\n",
    "    'Accept':'application/json'\n",
    "    })\n",
    "    content = r.json()\n",
    "    commits = []\n",
    "    for i in range(len(content)):\n",
    "        try:\n",
    "            commit = {}\n",
    "            commit['date'] = content[i]['created_at']\n",
    "            commit['author'] = content[i]['payload']['commits'][0]['author']['name']\n",
    "            commit['event_type'] = content[i]['type']\n",
    "            commit['message'] = content[i]['payload']['commits'][0]['message']\n",
    "            commit['link'] = 'https://github.com/{0}'.format(repo)\n",
    "            commits.append(commit)\n",
    "        except Exception as e:\n",
    "            print(e)\n",
    "            print(url)\n",
    "    return commits"
   ]
  },
  {
   "cell_type": "code",
   "execution_count": 7,
   "metadata": {},
   "outputs": [
    {
     "name": "stdout",
     "output_type": "stream",
     "text": [
      "'commits'\n",
      "https://api.github.com/repos/Catmint1215/BigData-final-project-GoogleAppStore/events?page=1&per_page=100\n",
      "'commits'\n",
      "https://api.github.com/repos/Catmint1215/BigData-final-project-GoogleAppStore/events?page=1&per_page=100\n",
      "'commits'\n",
      "https://api.github.com/repos/ConnorLi96/survival-guide-of-data-journalist/events?page=1&per_page=100\n",
      "'commits'\n",
      "https://api.github.com/repos/ConnorLi96/survival-guide-of-data-journalist/events?page=1&per_page=100\n",
      "'commits'\n",
      "https://api.github.com/repos/ConnorLi96/survival-guide-of-data-journalist/events?page=1&per_page=100\n",
      "'commits'\n",
      "https://api.github.com/repos/ConnorLi96/survival-guide-of-data-journalist/events?page=1&per_page=100\n",
      "'commits'\n",
      "https://api.github.com/repos/ConnorLi96/survival-guide-of-data-journalist/events?page=1&per_page=100\n",
      "'commits'\n",
      "https://api.github.com/repos/ConnorLi96/survival-guide-of-data-journalist/events?page=1&per_page=100\n",
      "'commits'\n",
      "https://api.github.com/repos/ConnorLi96/survival-guide-of-data-journalist/events?page=1&per_page=100\n",
      "'commits'\n",
      "https://api.github.com/repos/ConnorLi96/survival-guide-of-data-journalist/events?page=1&per_page=100\n",
      "'commits'\n",
      "https://api.github.com/repos/ConnorLi96/survival-guide-of-data-journalist/events?page=1&per_page=100\n",
      "'commits'\n",
      "https://api.github.com/repos/ConnorLi96/survival-guide-of-data-journalist/events?page=1&per_page=100\n",
      "'commits'\n",
      "https://api.github.com/repos/ConnorLi96/survival-guide-of-data-journalist/events?page=1&per_page=100\n",
      "'commits'\n",
      "https://api.github.com/repos/ConnorLi96/survival-guide-of-data-journalist/events?page=1&per_page=100\n",
      "0\n",
      "https://api.github.com/repos/Graceyit/BigData-Final-Project-woshipm.com/tree/master/events?page=1&per_page=100\n",
      "1\n",
      "https://api.github.com/repos/Graceyit/BigData-Final-Project-woshipm.com/tree/master/events?page=1&per_page=100\n",
      "'commits'\n",
      "https://api.github.com/repos/CelineTsang/The-Formula-Of-FFSO/events?page=1&per_page=100\n",
      "'commits'\n",
      "https://api.github.com/repos/CelineTsang/The-Formula-Of-FFSO/events?page=1&per_page=100\n",
      "'commits'\n",
      "https://api.github.com/repos/iiiJenny/job_market_for_media_student/events?page=1&per_page=100\n",
      "'commits'\n",
      "https://api.github.com/repos/iiiJenny/job_market_for_media_student/events?page=1&per_page=100\n",
      "'commits'\n",
      "https://api.github.com/repos/CathyChang1996/Behavior-trend-of-self-service-travelers/events?page=1&per_page=100\n",
      "'commits'\n",
      "https://api.github.com/repos/CathyChang1996/Behavior-trend-of-self-service-travelers/events?page=1&per_page=100\n",
      "'commits'\n",
      "https://api.github.com/repos/kaiwenxu94/Journalists-Killed/events?page=1&per_page=100\n",
      "'commits'\n",
      "https://api.github.com/repos/kaiwenxu94/Journalists-Killed/events?page=1&per_page=100\n",
      "'commits'\n",
      "https://api.github.com/repos/warrior960812/Big-Data-Final-Projcet-about-SCMP/events?page=1&per_page=100\n",
      "'commits'\n",
      "https://api.github.com/repos/warrior960812/Big-Data-Final-Projcet-about-SCMP/events?page=1&per_page=100\n",
      "'commits'\n",
      "https://api.github.com/repos/lullabymia/Final-Project-for-People-s-Daily/events?page=1&per_page=100\n",
      "'commits'\n",
      "https://api.github.com/repos/lullabymia/Final-Project-for-People-s-Daily/events?page=1&per_page=100\n",
      "'commits'\n",
      "https://api.github.com/repos/Zmh951010/Group-Zhai-Menghan-REITs-Insight/events?page=1&per_page=100\n",
      "'commits'\n",
      "https://api.github.com/repos/Zmh951010/Group-Zhai-Menghan-REITs-Insight/events?page=1&per_page=100\n",
      "'commits'\n",
      "https://api.github.com/repos/zhangjingwei0512/project/events?page=1&per_page=100\n",
      "'commits'\n",
      "https://api.github.com/repos/zhangjingwei0512/project/events?page=1&per_page=100\n"
     ]
    }
   ],
   "source": [
    "all_activities = []\n",
    "for repo in repo_list:\n",
    "    commits = get_activties(repo)\n",
    "    all_activities.extend(commits)"
   ]
  },
  {
   "cell_type": "code",
   "execution_count": 8,
   "metadata": {},
   "outputs": [
    {
     "data": {
      "text/plain": [
       "98"
      ]
     },
     "execution_count": 8,
     "metadata": {},
     "output_type": "execute_result"
    }
   ],
   "source": [
    "len(all_activities)"
   ]
  },
  {
   "cell_type": "code",
   "execution_count": 9,
   "metadata": {},
   "outputs": [],
   "source": [
    "import pandas as pd\n",
    "df2 = pd.DataFrame(all_activities)"
   ]
  },
  {
   "cell_type": "code",
   "execution_count": 10,
   "metadata": {},
   "outputs": [
    {
     "data": {
      "text/html": [
       "<div>\n",
       "<style scoped>\n",
       "    .dataframe tbody tr th:only-of-type {\n",
       "        vertical-align: middle;\n",
       "    }\n",
       "\n",
       "    .dataframe tbody tr th {\n",
       "        vertical-align: top;\n",
       "    }\n",
       "\n",
       "    .dataframe thead th {\n",
       "        text-align: right;\n",
       "    }\n",
       "</style>\n",
       "<table border=\"1\" class=\"dataframe\">\n",
       "  <thead>\n",
       "    <tr style=\"text-align: right;\">\n",
       "      <th></th>\n",
       "      <th>author</th>\n",
       "      <th>date</th>\n",
       "      <th>event_type</th>\n",
       "      <th>link</th>\n",
       "      <th>message</th>\n",
       "    </tr>\n",
       "  </thead>\n",
       "  <tbody>\n",
       "    <tr>\n",
       "      <th>0</th>\n",
       "      <td>Catmint1215</td>\n",
       "      <td>2018-12-07T03:09:58Z</td>\n",
       "      <td>PushEvent</td>\n",
       "      <td>https://github.com/Catmint1215/BigData-final-p...</td>\n",
       "      <td>1</td>\n",
       "    </tr>\n",
       "    <tr>\n",
       "      <th>1</th>\n",
       "      <td>GAO Chao</td>\n",
       "      <td>2018-12-10T05:27:18Z</td>\n",
       "      <td>PushEvent</td>\n",
       "      <td>https://github.com/ConnorLi96/survival-guide-o...</td>\n",
       "      <td>Update README.md</td>\n",
       "    </tr>\n",
       "    <tr>\n",
       "      <th>2</th>\n",
       "      <td>ConnorLi</td>\n",
       "      <td>2018-12-09T18:20:57Z</td>\n",
       "      <td>PushEvent</td>\n",
       "      <td>https://github.com/ConnorLi96/survival-guide-o...</td>\n",
       "      <td>updates more clear pictures</td>\n",
       "    </tr>\n",
       "    <tr>\n",
       "      <th>3</th>\n",
       "      <td>ConnorLi</td>\n",
       "      <td>2018-12-09T18:17:12Z</td>\n",
       "      <td>PushEvent</td>\n",
       "      <td>https://github.com/ConnorLi96/survival-guide-o...</td>\n",
       "      <td>Update .DS_Store</td>\n",
       "    </tr>\n",
       "    <tr>\n",
       "      <th>4</th>\n",
       "      <td>ConnorLi</td>\n",
       "      <td>2018-12-07T02:56:20Z</td>\n",
       "      <td>PushEvent</td>\n",
       "      <td>https://github.com/ConnorLi96/survival-guide-o...</td>\n",
       "      <td>updates</td>\n",
       "    </tr>\n",
       "  </tbody>\n",
       "</table>\n",
       "</div>"
      ],
      "text/plain": [
       "        author                  date event_type  \\\n",
       "0  Catmint1215  2018-12-07T03:09:58Z  PushEvent   \n",
       "1     GAO Chao  2018-12-10T05:27:18Z  PushEvent   \n",
       "2     ConnorLi  2018-12-09T18:20:57Z  PushEvent   \n",
       "3     ConnorLi  2018-12-09T18:17:12Z  PushEvent   \n",
       "4     ConnorLi  2018-12-07T02:56:20Z  PushEvent   \n",
       "\n",
       "                                                link  \\\n",
       "0  https://github.com/Catmint1215/BigData-final-p...   \n",
       "1  https://github.com/ConnorLi96/survival-guide-o...   \n",
       "2  https://github.com/ConnorLi96/survival-guide-o...   \n",
       "3  https://github.com/ConnorLi96/survival-guide-o...   \n",
       "4  https://github.com/ConnorLi96/survival-guide-o...   \n",
       "\n",
       "                       message  \n",
       "0                            1  \n",
       "1             Update README.md  \n",
       "2  updates more clear pictures  \n",
       "3             Update .DS_Store  \n",
       "4                      updates  "
      ]
     },
     "execution_count": 10,
     "metadata": {},
     "output_type": "execute_result"
    }
   ],
   "source": [
    "df2.head()"
   ]
  },
  {
   "cell_type": "code",
   "execution_count": 11,
   "metadata": {},
   "outputs": [],
   "source": [
    "df2.to_csv('../data/final-repos-activities.csv',index=None)"
   ]
  },
  {
   "cell_type": "code",
   "execution_count": null,
   "metadata": {},
   "outputs": [],
   "source": []
  }
 ],
 "metadata": {
  "kernelspec": {
   "display_name": "Python 3",
   "language": "python",
   "name": "python3"
  },
  "language_info": {
   "codemirror_mode": {
    "name": "ipython",
    "version": 3
   },
   "file_extension": ".py",
   "mimetype": "text/x-python",
   "name": "python",
   "nbconvert_exporter": "python",
   "pygments_lexer": "ipython3",
   "version": "3.6.5"
  }
 },
 "nbformat": 4,
 "nbformat_minor": 2
}
