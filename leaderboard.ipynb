{
 "cells": [
  {
   "cell_type": "markdown",
   "metadata": {},
   "source": [
    "# Leader board\n",
    "\n",
    "The leader board of student activities of COMM7780/ JOUR7280"
   ]
  },
  {
   "cell_type": "code",
   "execution_count": 3,
   "metadata": {},
   "outputs": [],
   "source": [
    "import pandas as pd\n",
    "import matplotlib\n",
    "%matplotlib inline"
   ]
  },
  {
   "cell_type": "code",
   "execution_count": null,
   "metadata": {},
   "outputs": [],
   "source": [
    "#!pip install matplotlib"
   ]
  },
  {
   "cell_type": "markdown",
   "metadata": {},
   "source": [
    "## Basic checkup"
   ]
  },
  {
   "cell_type": "code",
   "execution_count": 1,
   "metadata": {},
   "outputs": [
    {
     "ename": "NameError",
     "evalue": "name 'pd' is not defined",
     "output_type": "error",
     "traceback": [
      "\u001b[0;31m---------------------------------------------------------------------------\u001b[0m",
      "\u001b[0;31mNameError\u001b[0m                                 Traceback (most recent call last)",
      "\u001b[0;32m<ipython-input-1-12da7048cfe6>\u001b[0m in \u001b[0;36m<module>\u001b[0;34m\u001b[0m\n\u001b[0;32m----> 1\u001b[0;31m \u001b[0mdf\u001b[0m \u001b[0;34m=\u001b[0m \u001b[0mpd\u001b[0m\u001b[0;34m.\u001b[0m\u001b[0mread_csv\u001b[0m\u001b[0;34m(\u001b[0m\u001b[0;34m'data/user-contributions.csv'\u001b[0m\u001b[0;34m)\u001b[0m\u001b[0;34m\u001b[0m\u001b[0m\n\u001b[0m",
      "\u001b[0;31mNameError\u001b[0m: name 'pd' is not defined"
     ]
    }
   ],
   "source": [
    "df = pd.read_csv('data/user-contributions.csv')"
   ]
  },
  {
   "cell_type": "code",
   "execution_count": 4,
   "metadata": {},
   "outputs": [
    {
     "data": {
      "text/plain": [
       "6854"
      ]
     },
     "execution_count": 4,
     "metadata": {},
     "output_type": "execute_result"
    }
   ],
   "source": [
    "len(df)"
   ]
  },
  {
   "cell_type": "code",
   "execution_count": 5,
   "metadata": {},
   "outputs": [
    {
     "data": {
      "text/plain": [
       "Index(['data-count', 'data-date', 'url'], dtype='object')"
      ]
     },
     "execution_count": 5,
     "metadata": {},
     "output_type": "execute_result"
    }
   ],
   "source": [
    "df.columns"
   ]
  },
  {
   "cell_type": "code",
   "execution_count": 6,
   "metadata": {},
   "outputs": [
    {
     "data": {
      "text/html": [
       "<div>\n",
       "<style scoped>\n",
       "    .dataframe tbody tr th:only-of-type {\n",
       "        vertical-align: middle;\n",
       "    }\n",
       "\n",
       "    .dataframe tbody tr th {\n",
       "        vertical-align: top;\n",
       "    }\n",
       "\n",
       "    .dataframe thead th {\n",
       "        text-align: right;\n",
       "    }\n",
       "</style>\n",
       "<table border=\"1\" class=\"dataframe\">\n",
       "  <thead>\n",
       "    <tr style=\"text-align: right;\">\n",
       "      <th></th>\n",
       "      <th>data-count</th>\n",
       "      <th>data-date</th>\n",
       "      <th>url</th>\n",
       "    </tr>\n",
       "  </thead>\n",
       "  <tbody>\n",
       "    <tr>\n",
       "      <th>0</th>\n",
       "      <td>0</td>\n",
       "      <td>2018-07-01</td>\n",
       "      <td>https://github.com/PepperCai</td>\n",
       "    </tr>\n",
       "    <tr>\n",
       "      <th>1</th>\n",
       "      <td>0</td>\n",
       "      <td>2018-07-02</td>\n",
       "      <td>https://github.com/PepperCai</td>\n",
       "    </tr>\n",
       "    <tr>\n",
       "      <th>2</th>\n",
       "      <td>0</td>\n",
       "      <td>2018-07-03</td>\n",
       "      <td>https://github.com/PepperCai</td>\n",
       "    </tr>\n",
       "    <tr>\n",
       "      <th>3</th>\n",
       "      <td>0</td>\n",
       "      <td>2018-07-04</td>\n",
       "      <td>https://github.com/PepperCai</td>\n",
       "    </tr>\n",
       "    <tr>\n",
       "      <th>4</th>\n",
       "      <td>0</td>\n",
       "      <td>2018-07-05</td>\n",
       "      <td>https://github.com/PepperCai</td>\n",
       "    </tr>\n",
       "  </tbody>\n",
       "</table>\n",
       "</div>"
      ],
      "text/plain": [
       "   data-count   data-date                           url\n",
       "0           0  2018-07-01  https://github.com/PepperCai\n",
       "1           0  2018-07-02  https://github.com/PepperCai\n",
       "2           0  2018-07-03  https://github.com/PepperCai\n",
       "3           0  2018-07-04  https://github.com/PepperCai\n",
       "4           0  2018-07-05  https://github.com/PepperCai"
      ]
     },
     "execution_count": 6,
     "metadata": {},
     "output_type": "execute_result"
    }
   ],
   "source": [
    "df.head()"
   ]
  },
  {
   "cell_type": "code",
   "execution_count": 7,
   "metadata": {},
   "outputs": [
    {
     "data": {
      "text/html": [
       "<div>\n",
       "<style scoped>\n",
       "    .dataframe tbody tr th:only-of-type {\n",
       "        vertical-align: middle;\n",
       "    }\n",
       "\n",
       "    .dataframe tbody tr th {\n",
       "        vertical-align: top;\n",
       "    }\n",
       "\n",
       "    .dataframe thead th {\n",
       "        text-align: right;\n",
       "    }\n",
       "</style>\n",
       "<table border=\"1\" class=\"dataframe\">\n",
       "  <thead>\n",
       "    <tr style=\"text-align: right;\">\n",
       "      <th></th>\n",
       "      <th>data-count</th>\n",
       "      <th>data-date</th>\n",
       "      <th>url</th>\n",
       "    </tr>\n",
       "  </thead>\n",
       "  <tbody>\n",
       "    <tr>\n",
       "      <th>6849</th>\n",
       "      <td>1</td>\n",
       "      <td>2018-11-22</td>\n",
       "      <td>https://github.com/SerenaQYHuang</td>\n",
       "    </tr>\n",
       "    <tr>\n",
       "      <th>6850</th>\n",
       "      <td>4</td>\n",
       "      <td>2018-11-23</td>\n",
       "      <td>https://github.com/SerenaQYHuang</td>\n",
       "    </tr>\n",
       "    <tr>\n",
       "      <th>6851</th>\n",
       "      <td>0</td>\n",
       "      <td>2018-11-24</td>\n",
       "      <td>https://github.com/SerenaQYHuang</td>\n",
       "    </tr>\n",
       "    <tr>\n",
       "      <th>6852</th>\n",
       "      <td>1</td>\n",
       "      <td>2018-11-25</td>\n",
       "      <td>https://github.com/SerenaQYHuang</td>\n",
       "    </tr>\n",
       "    <tr>\n",
       "      <th>6853</th>\n",
       "      <td>1</td>\n",
       "      <td>2018-11-26</td>\n",
       "      <td>https://github.com/SerenaQYHuang</td>\n",
       "    </tr>\n",
       "  </tbody>\n",
       "</table>\n",
       "</div>"
      ],
      "text/plain": [
       "      data-count   data-date                               url\n",
       "6849           1  2018-11-22  https://github.com/SerenaQYHuang\n",
       "6850           4  2018-11-23  https://github.com/SerenaQYHuang\n",
       "6851           0  2018-11-24  https://github.com/SerenaQYHuang\n",
       "6852           1  2018-11-25  https://github.com/SerenaQYHuang\n",
       "6853           1  2018-11-26  https://github.com/SerenaQYHuang"
      ]
     },
     "execution_count": 7,
     "metadata": {},
     "output_type": "execute_result"
    }
   ],
   "source": [
    "df.tail()"
   ]
  },
  {
   "cell_type": "code",
   "execution_count": 8,
   "metadata": {},
   "outputs": [
    {
     "data": {
      "text/plain": [
       "dtype('int64')"
      ]
     },
     "execution_count": 8,
     "metadata": {},
     "output_type": "execute_result"
    }
   ],
   "source": [
    "df['data-count'].dtype"
   ]
  },
  {
   "cell_type": "code",
   "execution_count": 9,
   "metadata": {},
   "outputs": [
    {
     "data": {
      "text/plain": [
       "dtype('O')"
      ]
     },
     "execution_count": 9,
     "metadata": {},
     "output_type": "execute_result"
    }
   ],
   "source": [
    "df['data-date'].dtype"
   ]
  },
  {
   "cell_type": "code",
   "execution_count": 10,
   "metadata": {},
   "outputs": [
    {
     "data": {
      "text/plain": [
       "dtype('O')"
      ]
     },
     "execution_count": 10,
     "metadata": {},
     "output_type": "execute_result"
    }
   ],
   "source": [
    "df['url'].dtype"
   ]
  },
  {
   "cell_type": "markdown",
   "metadata": {},
   "source": [
    "## Time Series"
   ]
  },
  {
   "cell_type": "code",
   "execution_count": 11,
   "metadata": {},
   "outputs": [],
   "source": [
    "from dateutil.parser import parse"
   ]
  },
  {
   "cell_type": "code",
   "execution_count": 12,
   "metadata": {},
   "outputs": [
    {
     "data": {
      "text/plain": [
       "<function dateutil.parser._parser.parse(timestr, parserinfo=None, **kwargs)>"
      ]
     },
     "execution_count": 12,
     "metadata": {},
     "output_type": "execute_result"
    }
   ],
   "source": [
    "parse"
   ]
  },
  {
   "cell_type": "code",
   "execution_count": 13,
   "metadata": {},
   "outputs": [
    {
     "data": {
      "text/plain": [
       "str"
      ]
     },
     "execution_count": 13,
     "metadata": {},
     "output_type": "execute_result"
    }
   ],
   "source": [
    "type(df['data-date'][0])"
   ]
  },
  {
   "cell_type": "code",
   "execution_count": 14,
   "metadata": {},
   "outputs": [
    {
     "data": {
      "text/plain": [
       "datetime.datetime(2018, 7, 1, 0, 0)"
      ]
     },
     "execution_count": 14,
     "metadata": {},
     "output_type": "execute_result"
    }
   ],
   "source": [
    "parse(df['data-date'][0])"
   ]
  },
  {
   "cell_type": "code",
   "execution_count": 15,
   "metadata": {},
   "outputs": [],
   "source": [
    "df['datetime'] = df['data-date'].apply(parse)"
   ]
  },
  {
   "cell_type": "code",
   "execution_count": 16,
   "metadata": {},
   "outputs": [
    {
     "data": {
      "text/plain": [
       "str"
      ]
     },
     "execution_count": 16,
     "metadata": {},
     "output_type": "execute_result"
    }
   ],
   "source": [
    "type(df['data-date'][0])"
   ]
  },
  {
   "cell_type": "code",
   "execution_count": 17,
   "metadata": {},
   "outputs": [
    {
     "data": {
      "text/plain": [
       "pandas._libs.tslibs.timestamps.Timestamp"
      ]
     },
     "execution_count": 17,
     "metadata": {},
     "output_type": "execute_result"
    }
   ],
   "source": [
    "type(df['datetime'][0])"
   ]
  },
  {
   "cell_type": "code",
   "execution_count": 18,
   "metadata": {},
   "outputs": [],
   "source": [
    "# Refer to week08\n",
    "# .groupby().aggregate()"
   ]
  },
  {
   "cell_type": "code",
   "execution_count": 19,
   "metadata": {},
   "outputs": [
    {
     "data": {
      "text/plain": [
       "<matplotlib.axes._subplots.AxesSubplot at 0x10db31940>"
      ]
     },
     "execution_count": 19,
     "metadata": {},
     "output_type": "execute_result"
    },
    {
     "data": {
      "image/png": "[encoded data removed]",
      "text/plain": [
       "<Figure size 432x288 with 1 Axes>"
      ]
     },
     "metadata": {
      "needs_background": "light"
     },
     "output_type": "display_data"
    }
   ],
   "source": [
    "df.set_index('datetime').resample('1w').aggregate('sum').plot()"
   ]
  },
  {
   "cell_type": "code",
   "execution_count": 20,
   "metadata": {},
   "outputs": [
    {
     "data": {
      "text/html": [
       "<div>\n",
       "<style scoped>\n",
       "    .dataframe tbody tr th:only-of-type {\n",
       "        vertical-align: middle;\n",
       "    }\n",
       "\n",
       "    .dataframe tbody tr th {\n",
       "        vertical-align: top;\n",
       "    }\n",
       "\n",
       "    .dataframe thead th {\n",
       "        text-align: right;\n",
       "    }\n",
       "</style>\n",
       "<table border=\"1\" class=\"dataframe\">\n",
       "  <thead>\n",
       "    <tr style=\"text-align: right;\">\n",
       "      <th></th>\n",
       "      <th>data-count</th>\n",
       "      <th>data-date</th>\n",
       "      <th>url</th>\n",
       "      <th>datetime</th>\n",
       "    </tr>\n",
       "  </thead>\n",
       "  <tbody>\n",
       "    <tr>\n",
       "      <th>0</th>\n",
       "      <td>0</td>\n",
       "      <td>2018-07-01</td>\n",
       "      <td>https://github.com/PepperCai</td>\n",
       "      <td>2018-07-01</td>\n",
       "    </tr>\n",
       "    <tr>\n",
       "      <th>1</th>\n",
       "      <td>0</td>\n",
       "      <td>2018-07-02</td>\n",
       "      <td>https://github.com/PepperCai</td>\n",
       "      <td>2018-07-02</td>\n",
       "    </tr>\n",
       "    <tr>\n",
       "      <th>2</th>\n",
       "      <td>0</td>\n",
       "      <td>2018-07-03</td>\n",
       "      <td>https://github.com/PepperCai</td>\n",
       "      <td>2018-07-03</td>\n",
       "    </tr>\n",
       "    <tr>\n",
       "      <th>3</th>\n",
       "      <td>0</td>\n",
       "      <td>2018-07-04</td>\n",
       "      <td>https://github.com/PepperCai</td>\n",
       "      <td>2018-07-04</td>\n",
       "    </tr>\n",
       "    <tr>\n",
       "      <th>4</th>\n",
       "      <td>0</td>\n",
       "      <td>2018-07-05</td>\n",
       "      <td>https://github.com/PepperCai</td>\n",
       "      <td>2018-07-05</td>\n",
       "    </tr>\n",
       "    <tr>\n",
       "      <th>5</th>\n",
       "      <td>0</td>\n",
       "      <td>2018-07-06</td>\n",
       "      <td>https://github.com/PepperCai</td>\n",
       "      <td>2018-07-06</td>\n",
       "    </tr>\n",
       "    <tr>\n",
       "      <th>6</th>\n",
       "      <td>0</td>\n",
       "      <td>2018-07-07</td>\n",
       "      <td>https://github.com/PepperCai</td>\n",
       "      <td>2018-07-07</td>\n",
       "    </tr>\n",
       "    <tr>\n",
       "      <th>7</th>\n",
       "      <td>0</td>\n",
       "      <td>2018-07-08</td>\n",
       "      <td>https://github.com/PepperCai</td>\n",
       "      <td>2018-07-08</td>\n",
       "    </tr>\n",
       "    <tr>\n",
       "      <th>8</th>\n",
       "      <td>0</td>\n",
       "      <td>2018-07-09</td>\n",
       "      <td>https://github.com/PepperCai</td>\n",
       "      <td>2018-07-09</td>\n",
       "    </tr>\n",
       "    <tr>\n",
       "      <th>9</th>\n",
       "      <td>0</td>\n",
       "      <td>2018-07-10</td>\n",
       "      <td>https://github.com/PepperCai</td>\n",
       "      <td>2018-07-10</td>\n",
       "    </tr>\n",
       "    <tr>\n",
       "      <th>10</th>\n",
       "      <td>0</td>\n",
       "      <td>2018-07-11</td>\n",
       "      <td>https://github.com/PepperCai</td>\n",
       "      <td>2018-07-11</td>\n",
       "    </tr>\n",
       "    <tr>\n",
       "      <th>11</th>\n",
       "      <td>0</td>\n",
       "      <td>2018-07-12</td>\n",
       "      <td>https://github.com/PepperCai</td>\n",
       "      <td>2018-07-12</td>\n",
       "    </tr>\n",
       "    <tr>\n",
       "      <th>12</th>\n",
       "      <td>0</td>\n",
       "      <td>2018-07-13</td>\n",
       "      <td>https://github.com/PepperCai</td>\n",
       "      <td>2018-07-13</td>\n",
       "    </tr>\n",
       "    <tr>\n",
       "      <th>13</th>\n",
       "      <td>0</td>\n",
       "      <td>2018-07-14</td>\n",
       "      <td>https://github.com/PepperCai</td>\n",
       "      <td>2018-07-14</td>\n",
       "    </tr>\n",
       "    <tr>\n",
       "      <th>14</th>\n",
       "      <td>0</td>\n",
       "      <td>2018-07-15</td>\n",
       "      <td>https://github.com/PepperCai</td>\n",
       "      <td>2018-07-15</td>\n",
       "    </tr>\n",
       "    <tr>\n",
       "      <th>15</th>\n",
       "      <td>0</td>\n",
       "      <td>2018-07-16</td>\n",
       "      <td>https://github.com/PepperCai</td>\n",
       "      <td>2018-07-16</td>\n",
       "    </tr>\n",
       "    <tr>\n",
       "      <th>16</th>\n",
       "      <td>0</td>\n",
       "      <td>2018-07-17</td>\n",
       "      <td>https://github.com/PepperCai</td>\n",
       "      <td>2018-07-17</td>\n",
       "    </tr>\n",
       "    <tr>\n",
       "      <th>17</th>\n",
       "      <td>0</td>\n",
       "      <td>2018-07-18</td>\n",
       "      <td>https://github.com/PepperCai</td>\n",
       "      <td>2018-07-18</td>\n",
       "    </tr>\n",
       "    <tr>\n",
       "      <th>18</th>\n",
       "      <td>0</td>\n",
       "      <td>2018-07-19</td>\n",
       "      <td>https://github.com/PepperCai</td>\n",
       "      <td>2018-07-19</td>\n",
       "    </tr>\n",
       "    <tr>\n",
       "      <th>19</th>\n",
       "      <td>0</td>\n",
       "      <td>2018-07-20</td>\n",
       "      <td>https://github.com/PepperCai</td>\n",
       "      <td>2018-07-20</td>\n",
       "    </tr>\n",
       "    <tr>\n",
       "      <th>20</th>\n",
       "      <td>0</td>\n",
       "      <td>2018-07-21</td>\n",
       "      <td>https://github.com/PepperCai</td>\n",
       "      <td>2018-07-21</td>\n",
       "    </tr>\n",
       "    <tr>\n",
       "      <th>21</th>\n",
       "      <td>0</td>\n",
       "      <td>2018-07-22</td>\n",
       "      <td>https://github.com/PepperCai</td>\n",
       "      <td>2018-07-22</td>\n",
       "    </tr>\n",
       "    <tr>\n",
       "      <th>22</th>\n",
       "      <td>0</td>\n",
       "      <td>2018-07-23</td>\n",
       "      <td>https://github.com/PepperCai</td>\n",
       "      <td>2018-07-23</td>\n",
       "    </tr>\n",
       "    <tr>\n",
       "      <th>23</th>\n",
       "      <td>0</td>\n",
       "      <td>2018-07-24</td>\n",
       "      <td>https://github.com/PepperCai</td>\n",
       "      <td>2018-07-24</td>\n",
       "    </tr>\n",
       "    <tr>\n",
       "      <th>24</th>\n",
       "      <td>0</td>\n",
       "      <td>2018-07-25</td>\n",
       "      <td>https://github.com/PepperCai</td>\n",
       "      <td>2018-07-25</td>\n",
       "    </tr>\n",
       "    <tr>\n",
       "      <th>25</th>\n",
       "      <td>0</td>\n",
       "      <td>2018-07-26</td>\n",
       "      <td>https://github.com/PepperCai</td>\n",
       "      <td>2018-07-26</td>\n",
       "    </tr>\n",
       "    <tr>\n",
       "      <th>26</th>\n",
       "      <td>0</td>\n",
       "      <td>2018-07-27</td>\n",
       "      <td>https://github.com/PepperCai</td>\n",
       "      <td>2018-07-27</td>\n",
       "    </tr>\n",
       "    <tr>\n",
       "      <th>27</th>\n",
       "      <td>0</td>\n",
       "      <td>2018-07-28</td>\n",
       "      <td>https://github.com/PepperCai</td>\n",
       "      <td>2018-07-28</td>\n",
       "    </tr>\n",
       "    <tr>\n",
       "      <th>28</th>\n",
       "      <td>0</td>\n",
       "      <td>2018-07-29</td>\n",
       "      <td>https://github.com/PepperCai</td>\n",
       "      <td>2018-07-29</td>\n",
       "    </tr>\n",
       "    <tr>\n",
       "      <th>29</th>\n",
       "      <td>0</td>\n",
       "      <td>2018-07-30</td>\n",
       "      <td>https://github.com/PepperCai</td>\n",
       "      <td>2018-07-30</td>\n",
       "    </tr>\n",
       "    <tr>\n",
       "      <th>...</th>\n",
       "      <td>...</td>\n",
       "      <td>...</td>\n",
       "      <td>...</td>\n",
       "      <td>...</td>\n",
       "    </tr>\n",
       "    <tr>\n",
       "      <th>6824</th>\n",
       "      <td>0</td>\n",
       "      <td>2018-10-28</td>\n",
       "      <td>https://github.com/SerenaQYHuang</td>\n",
       "      <td>2018-10-28</td>\n",
       "    </tr>\n",
       "    <tr>\n",
       "      <th>6825</th>\n",
       "      <td>0</td>\n",
       "      <td>2018-10-29</td>\n",
       "      <td>https://github.com/SerenaQYHuang</td>\n",
       "      <td>2018-10-29</td>\n",
       "    </tr>\n",
       "    <tr>\n",
       "      <th>6826</th>\n",
       "      <td>0</td>\n",
       "      <td>2018-10-30</td>\n",
       "      <td>https://github.com/SerenaQYHuang</td>\n",
       "      <td>2018-10-30</td>\n",
       "    </tr>\n",
       "    <tr>\n",
       "      <th>6827</th>\n",
       "      <td>2</td>\n",
       "      <td>2018-10-31</td>\n",
       "      <td>https://github.com/SerenaQYHuang</td>\n",
       "      <td>2018-10-31</td>\n",
       "    </tr>\n",
       "    <tr>\n",
       "      <th>6828</th>\n",
       "      <td>0</td>\n",
       "      <td>2018-11-01</td>\n",
       "      <td>https://github.com/SerenaQYHuang</td>\n",
       "      <td>2018-11-01</td>\n",
       "    </tr>\n",
       "    <tr>\n",
       "      <th>6829</th>\n",
       "      <td>0</td>\n",
       "      <td>2018-11-02</td>\n",
       "      <td>https://github.com/SerenaQYHuang</td>\n",
       "      <td>2018-11-02</td>\n",
       "    </tr>\n",
       "    <tr>\n",
       "      <th>6830</th>\n",
       "      <td>0</td>\n",
       "      <td>2018-11-03</td>\n",
       "      <td>https://github.com/SerenaQYHuang</td>\n",
       "      <td>2018-11-03</td>\n",
       "    </tr>\n",
       "    <tr>\n",
       "      <th>6831</th>\n",
       "      <td>0</td>\n",
       "      <td>2018-11-04</td>\n",
       "      <td>https://github.com/SerenaQYHuang</td>\n",
       "      <td>2018-11-04</td>\n",
       "    </tr>\n",
       "    <tr>\n",
       "      <th>6832</th>\n",
       "      <td>0</td>\n",
       "      <td>2018-11-05</td>\n",
       "      <td>https://github.com/SerenaQYHuang</td>\n",
       "      <td>2018-11-05</td>\n",
       "    </tr>\n",
       "    <tr>\n",
       "      <th>6833</th>\n",
       "      <td>0</td>\n",
       "      <td>2018-11-06</td>\n",
       "      <td>https://github.com/SerenaQYHuang</td>\n",
       "      <td>2018-11-06</td>\n",
       "    </tr>\n",
       "    <tr>\n",
       "      <th>6834</th>\n",
       "      <td>1</td>\n",
       "      <td>2018-11-07</td>\n",
       "      <td>https://github.com/SerenaQYHuang</td>\n",
       "      <td>2018-11-07</td>\n",
       "    </tr>\n",
       "    <tr>\n",
       "      <th>6835</th>\n",
       "      <td>0</td>\n",
       "      <td>2018-11-08</td>\n",
       "      <td>https://github.com/SerenaQYHuang</td>\n",
       "      <td>2018-11-08</td>\n",
       "    </tr>\n",
       "    <tr>\n",
       "      <th>6836</th>\n",
       "      <td>0</td>\n",
       "      <td>2018-11-09</td>\n",
       "      <td>https://github.com/SerenaQYHuang</td>\n",
       "      <td>2018-11-09</td>\n",
       "    </tr>\n",
       "    <tr>\n",
       "      <th>6837</th>\n",
       "      <td>0</td>\n",
       "      <td>2018-11-10</td>\n",
       "      <td>https://github.com/SerenaQYHuang</td>\n",
       "      <td>2018-11-10</td>\n",
       "    </tr>\n",
       "    <tr>\n",
       "      <th>6838</th>\n",
       "      <td>0</td>\n",
       "      <td>2018-11-11</td>\n",
       "      <td>https://github.com/SerenaQYHuang</td>\n",
       "      <td>2018-11-11</td>\n",
       "    </tr>\n",
       "    <tr>\n",
       "      <th>6839</th>\n",
       "      <td>0</td>\n",
       "      <td>2018-11-12</td>\n",
       "      <td>https://github.com/SerenaQYHuang</td>\n",
       "      <td>2018-11-12</td>\n",
       "    </tr>\n",
       "    <tr>\n",
       "      <th>6840</th>\n",
       "      <td>0</td>\n",
       "      <td>2018-11-13</td>\n",
       "      <td>https://github.com/SerenaQYHuang</td>\n",
       "      <td>2018-11-13</td>\n",
       "    </tr>\n",
       "    <tr>\n",
       "      <th>6841</th>\n",
       "      <td>1</td>\n",
       "      <td>2018-11-14</td>\n",
       "      <td>https://github.com/SerenaQYHuang</td>\n",
       "      <td>2018-11-14</td>\n",
       "    </tr>\n",
       "    <tr>\n",
       "      <th>6842</th>\n",
       "      <td>0</td>\n",
       "      <td>2018-11-15</td>\n",
       "      <td>https://github.com/SerenaQYHuang</td>\n",
       "      <td>2018-11-15</td>\n",
       "    </tr>\n",
       "    <tr>\n",
       "      <th>6843</th>\n",
       "      <td>0</td>\n",
       "      <td>2018-11-16</td>\n",
       "      <td>https://github.com/SerenaQYHuang</td>\n",
       "      <td>2018-11-16</td>\n",
       "    </tr>\n",
       "    <tr>\n",
       "      <th>6844</th>\n",
       "      <td>0</td>\n",
       "      <td>2018-11-17</td>\n",
       "      <td>https://github.com/SerenaQYHuang</td>\n",
       "      <td>2018-11-17</td>\n",
       "    </tr>\n",
       "    <tr>\n",
       "      <th>6845</th>\n",
       "      <td>0</td>\n",
       "      <td>2018-11-18</td>\n",
       "      <td>https://github.com/SerenaQYHuang</td>\n",
       "      <td>2018-11-18</td>\n",
       "    </tr>\n",
       "    <tr>\n",
       "      <th>6846</th>\n",
       "      <td>0</td>\n",
       "      <td>2018-11-19</td>\n",
       "      <td>https://github.com/SerenaQYHuang</td>\n",
       "      <td>2018-11-19</td>\n",
       "    </tr>\n",
       "    <tr>\n",
       "      <th>6847</th>\n",
       "      <td>0</td>\n",
       "      <td>2018-11-20</td>\n",
       "      <td>https://github.com/SerenaQYHuang</td>\n",
       "      <td>2018-11-20</td>\n",
       "    </tr>\n",
       "    <tr>\n",
       "      <th>6848</th>\n",
       "      <td>0</td>\n",
       "      <td>2018-11-21</td>\n",
       "      <td>https://github.com/SerenaQYHuang</td>\n",
       "      <td>2018-11-21</td>\n",
       "    </tr>\n",
       "    <tr>\n",
       "      <th>6849</th>\n",
       "      <td>1</td>\n",
       "      <td>2018-11-22</td>\n",
       "      <td>https://github.com/SerenaQYHuang</td>\n",
       "      <td>2018-11-22</td>\n",
       "    </tr>\n",
       "    <tr>\n",
       "      <th>6850</th>\n",
       "      <td>4</td>\n",
       "      <td>2018-11-23</td>\n",
       "      <td>https://github.com/SerenaQYHuang</td>\n",
       "      <td>2018-11-23</td>\n",
       "    </tr>\n",
       "    <tr>\n",
       "      <th>6851</th>\n",
       "      <td>0</td>\n",
       "      <td>2018-11-24</td>\n",
       "      <td>https://github.com/SerenaQYHuang</td>\n",
       "      <td>2018-11-24</td>\n",
       "    </tr>\n",
       "    <tr>\n",
       "      <th>6852</th>\n",
       "      <td>1</td>\n",
       "      <td>2018-11-25</td>\n",
       "      <td>https://github.com/SerenaQYHuang</td>\n",
       "      <td>2018-11-25</td>\n",
       "    </tr>\n",
       "    <tr>\n",
       "      <th>6853</th>\n",
       "      <td>1</td>\n",
       "      <td>2018-11-26</td>\n",
       "      <td>https://github.com/SerenaQYHuang</td>\n",
       "      <td>2018-11-26</td>\n",
       "    </tr>\n",
       "  </tbody>\n",
       "</table>\n",
       "<p>6854 rows × 4 columns</p>\n",
       "</div>"
      ],
      "text/plain": [
       "      data-count   data-date                               url   datetime\n",
       "0              0  2018-07-01      https://github.com/PepperCai 2018-07-01\n",
       "1              0  2018-07-02      https://github.com/PepperCai 2018-07-02\n",
       "2              0  2018-07-03      https://github.com/PepperCai 2018-07-03\n",
       "3              0  2018-07-04      https://github.com/PepperCai 2018-07-04\n",
       "4              0  2018-07-05      https://github.com/PepperCai 2018-07-05\n",
       "5              0  2018-07-06      https://github.com/PepperCai 2018-07-06\n",
       "6              0  2018-07-07      https://github.com/PepperCai 2018-07-07\n",
       "7              0  2018-07-08      https://github.com/PepperCai 2018-07-08\n",
       "8              0  2018-07-09      https://github.com/PepperCai 2018-07-09\n",
       "9              0  2018-07-10      https://github.com/PepperCai 2018-07-10\n",
       "10             0  2018-07-11      https://github.com/PepperCai 2018-07-11\n",
       "11             0  2018-07-12      https://github.com/PepperCai 2018-07-12\n",
       "12             0  2018-07-13      https://github.com/PepperCai 2018-07-13\n",
       "13             0  2018-07-14      https://github.com/PepperCai 2018-07-14\n",
       "14             0  2018-07-15      https://github.com/PepperCai 2018-07-15\n",
       "15             0  2018-07-16      https://github.com/PepperCai 2018-07-16\n",
       "16             0  2018-07-17      https://github.com/PepperCai 2018-07-17\n",
       "17             0  2018-07-18      https://github.com/PepperCai 2018-07-18\n",
       "18             0  2018-07-19      https://github.com/PepperCai 2018-07-19\n",
       "19             0  2018-07-20      https://github.com/PepperCai 2018-07-20\n",
       "20             0  2018-07-21      https://github.com/PepperCai 2018-07-21\n",
       "21             0  2018-07-22      https://github.com/PepperCai 2018-07-22\n",
       "22             0  2018-07-23      https://github.com/PepperCai 2018-07-23\n",
       "23             0  2018-07-24      https://github.com/PepperCai 2018-07-24\n",
       "24             0  2018-07-25      https://github.com/PepperCai 2018-07-25\n",
       "25             0  2018-07-26      https://github.com/PepperCai 2018-07-26\n",
       "26             0  2018-07-27      https://github.com/PepperCai 2018-07-27\n",
       "27             0  2018-07-28      https://github.com/PepperCai 2018-07-28\n",
       "28             0  2018-07-29      https://github.com/PepperCai 2018-07-29\n",
       "29             0  2018-07-30      https://github.com/PepperCai 2018-07-30\n",
       "...          ...         ...                               ...        ...\n",
       "6824           0  2018-10-28  https://github.com/SerenaQYHuang 2018-10-28\n",
       "6825           0  2018-10-29  https://github.com/SerenaQYHuang 2018-10-29\n",
       "6826           0  2018-10-30  https://github.com/SerenaQYHuang 2018-10-30\n",
       "6827           2  2018-10-31  https://github.com/SerenaQYHuang 2018-10-31\n",
       "6828           0  2018-11-01  https://github.com/SerenaQYHuang 2018-11-01\n",
       "6829           0  2018-11-02  https://github.com/SerenaQYHuang 2018-11-02\n",
       "6830           0  2018-11-03  https://github.com/SerenaQYHuang 2018-11-03\n",
       "6831           0  2018-11-04  https://github.com/SerenaQYHuang 2018-11-04\n",
       "6832           0  2018-11-05  https://github.com/SerenaQYHuang 2018-11-05\n",
       "6833           0  2018-11-06  https://github.com/SerenaQYHuang 2018-11-06\n",
       "6834           1  2018-11-07  https://github.com/SerenaQYHuang 2018-11-07\n",
       "6835           0  2018-11-08  https://github.com/SerenaQYHuang 2018-11-08\n",
       "6836           0  2018-11-09  https://github.com/SerenaQYHuang 2018-11-09\n",
       "6837           0  2018-11-10  https://github.com/SerenaQYHuang 2018-11-10\n",
       "6838           0  2018-11-11  https://github.com/SerenaQYHuang 2018-11-11\n",
       "6839           0  2018-11-12  https://github.com/SerenaQYHuang 2018-11-12\n",
       "6840           0  2018-11-13  https://github.com/SerenaQYHuang 2018-11-13\n",
       "6841           1  2018-11-14  https://github.com/SerenaQYHuang 2018-11-14\n",
       "6842           0  2018-11-15  https://github.com/SerenaQYHuang 2018-11-15\n",
       "6843           0  2018-11-16  https://github.com/SerenaQYHuang 2018-11-16\n",
       "6844           0  2018-11-17  https://github.com/SerenaQYHuang 2018-11-17\n",
       "6845           0  2018-11-18  https://github.com/SerenaQYHuang 2018-11-18\n",
       "6846           0  2018-11-19  https://github.com/SerenaQYHuang 2018-11-19\n",
       "6847           0  2018-11-20  https://github.com/SerenaQYHuang 2018-11-20\n",
       "6848           0  2018-11-21  https://github.com/SerenaQYHuang 2018-11-21\n",
       "6849           1  2018-11-22  https://github.com/SerenaQYHuang 2018-11-22\n",
       "6850           4  2018-11-23  https://github.com/SerenaQYHuang 2018-11-23\n",
       "6851           0  2018-11-24  https://github.com/SerenaQYHuang 2018-11-24\n",
       "6852           1  2018-11-25  https://github.com/SerenaQYHuang 2018-11-25\n",
       "6853           1  2018-11-26  https://github.com/SerenaQYHuang 2018-11-26\n",
       "\n",
       "[6854 rows x 4 columns]"
      ]
     },
     "execution_count": 20,
     "metadata": {},
     "output_type": "execute_result"
    }
   ],
   "source": [
    "df"
   ]
  },
  {
   "cell_type": "markdown",
   "metadata": {},
   "source": [
    "## Time series by class"
   ]
  },
  {
   "cell_type": "code",
   "execution_count": 21,
   "metadata": {},
   "outputs": [],
   "source": [
    "df_students = pd.read_csv('namelist.csv')"
   ]
  },
  {
   "cell_type": "code",
   "execution_count": 22,
   "metadata": {},
   "outputs": [
    {
     "data": {
      "text/html": [
       "<div>\n",
       "<style scoped>\n",
       "    .dataframe tbody tr th:only-of-type {\n",
       "        vertical-align: middle;\n",
       "    }\n",
       "\n",
       "    .dataframe tbody tr th {\n",
       "        vertical-align: top;\n",
       "    }\n",
       "\n",
       "    .dataframe thead th {\n",
       "        text-align: right;\n",
       "    }\n",
       "</style>\n",
       "<table border=\"1\" class=\"dataframe\">\n",
       "  <thead>\n",
       "    <tr style=\"text-align: right;\">\n",
       "      <th></th>\n",
       "      <th>Course_Code</th>\n",
       "      <th>Student_Name</th>\n",
       "      <th>github_link</th>\n",
       "      <th>remark</th>\n",
       "    </tr>\n",
       "  </thead>\n",
       "  <tbody>\n",
       "    <tr>\n",
       "      <th>0</th>\n",
       "      <td>COMM7780</td>\n",
       "      <td>CAI Xuejiao</td>\n",
       "      <td>https://github.com/PepperCai</td>\n",
       "      <td>student</td>\n",
       "    </tr>\n",
       "    <tr>\n",
       "      <th>1</th>\n",
       "      <td>COMM7780</td>\n",
       "      <td>CHEN Mengjie</td>\n",
       "      <td>https://github.com/DidoChan</td>\n",
       "      <td>student</td>\n",
       "    </tr>\n",
       "    <tr>\n",
       "      <th>2</th>\n",
       "      <td>COMM7780</td>\n",
       "      <td>CHEN Ye</td>\n",
       "      <td>https://github.com/Shinonomee</td>\n",
       "      <td>student</td>\n",
       "    </tr>\n",
       "    <tr>\n",
       "      <th>3</th>\n",
       "      <td>COMM7780</td>\n",
       "      <td>DU Jiawei</td>\n",
       "      <td>https://github.com/jasmine-dudu</td>\n",
       "      <td>student</td>\n",
       "    </tr>\n",
       "    <tr>\n",
       "      <th>4</th>\n",
       "      <td>COMM7780</td>\n",
       "      <td>FENG Yujin</td>\n",
       "      <td>https://github.com/Catmint1215</td>\n",
       "      <td>class helper</td>\n",
       "    </tr>\n",
       "  </tbody>\n",
       "</table>\n",
       "</div>"
      ],
      "text/plain": [
       "  Course_Code  Student_Name                      github_link        remark\n",
       "0    COMM7780   CAI Xuejiao     https://github.com/PepperCai       student\n",
       "1    COMM7780  CHEN Mengjie      https://github.com/DidoChan       student\n",
       "2    COMM7780       CHEN Ye    https://github.com/Shinonomee       student\n",
       "3    COMM7780     DU Jiawei  https://github.com/jasmine-dudu       student\n",
       "4    COMM7780    FENG Yujin   https://github.com/Catmint1215  class helper"
      ]
     },
     "execution_count": 22,
     "metadata": {},
     "output_type": "execute_result"
    }
   ],
   "source": [
    "df_students.head()"
   ]
  },
  {
   "cell_type": "code",
   "execution_count": 23,
   "metadata": {},
   "outputs": [],
   "source": [
    "df_merged = df.merge(df_students, left_on='url', right_on='github_link')"
   ]
  },
  {
   "cell_type": "code",
   "execution_count": 24,
   "metadata": {},
   "outputs": [
    {
     "data": {
      "text/html": [
       "<div>\n",
       "<style scoped>\n",
       "    .dataframe tbody tr th:only-of-type {\n",
       "        vertical-align: middle;\n",
       "    }\n",
       "\n",
       "    .dataframe tbody tr th {\n",
       "        vertical-align: top;\n",
       "    }\n",
       "\n",
       "    .dataframe thead th {\n",
       "        text-align: right;\n",
       "    }\n",
       "</style>\n",
       "<table border=\"1\" class=\"dataframe\">\n",
       "  <thead>\n",
       "    <tr style=\"text-align: right;\">\n",
       "      <th></th>\n",
       "      <th>data-count</th>\n",
       "      <th>data-date</th>\n",
       "      <th>url</th>\n",
       "      <th>datetime</th>\n",
       "      <th>Course_Code</th>\n",
       "      <th>Student_Name</th>\n",
       "      <th>github_link</th>\n",
       "      <th>remark</th>\n",
       "    </tr>\n",
       "  </thead>\n",
       "  <tbody>\n",
       "    <tr>\n",
       "      <th>0</th>\n",
       "      <td>0</td>\n",
       "      <td>2018-07-01</td>\n",
       "      <td>https://github.com/PepperCai</td>\n",
       "      <td>2018-07-01</td>\n",
       "      <td>COMM7780</td>\n",
       "      <td>CAI Xuejiao</td>\n",
       "      <td>https://github.com/PepperCai</td>\n",
       "      <td>student</td>\n",
       "    </tr>\n",
       "    <tr>\n",
       "      <th>1</th>\n",
       "      <td>0</td>\n",
       "      <td>2018-07-02</td>\n",
       "      <td>https://github.com/PepperCai</td>\n",
       "      <td>2018-07-02</td>\n",
       "      <td>COMM7780</td>\n",
       "      <td>CAI Xuejiao</td>\n",
       "      <td>https://github.com/PepperCai</td>\n",
       "      <td>student</td>\n",
       "    </tr>\n",
       "    <tr>\n",
       "      <th>2</th>\n",
       "      <td>0</td>\n",
       "      <td>2018-07-03</td>\n",
       "      <td>https://github.com/PepperCai</td>\n",
       "      <td>2018-07-03</td>\n",
       "      <td>COMM7780</td>\n",
       "      <td>CAI Xuejiao</td>\n",
       "      <td>https://github.com/PepperCai</td>\n",
       "      <td>student</td>\n",
       "    </tr>\n",
       "    <tr>\n",
       "      <th>3</th>\n",
       "      <td>0</td>\n",
       "      <td>2018-07-04</td>\n",
       "      <td>https://github.com/PepperCai</td>\n",
       "      <td>2018-07-04</td>\n",
       "      <td>COMM7780</td>\n",
       "      <td>CAI Xuejiao</td>\n",
       "      <td>https://github.com/PepperCai</td>\n",
       "      <td>student</td>\n",
       "    </tr>\n",
       "    <tr>\n",
       "      <th>4</th>\n",
       "      <td>0</td>\n",
       "      <td>2018-07-05</td>\n",
       "      <td>https://github.com/PepperCai</td>\n",
       "      <td>2018-07-05</td>\n",
       "      <td>COMM7780</td>\n",
       "      <td>CAI Xuejiao</td>\n",
       "      <td>https://github.com/PepperCai</td>\n",
       "      <td>student</td>\n",
       "    </tr>\n",
       "  </tbody>\n",
       "</table>\n",
       "</div>"
      ],
      "text/plain": [
       "   data-count   data-date                           url   datetime  \\\n",
       "0           0  2018-07-01  https://github.com/PepperCai 2018-07-01   \n",
       "1           0  2018-07-02  https://github.com/PepperCai 2018-07-02   \n",
       "2           0  2018-07-03  https://github.com/PepperCai 2018-07-03   \n",
       "3           0  2018-07-04  https://github.com/PepperCai 2018-07-04   \n",
       "4           0  2018-07-05  https://github.com/PepperCai 2018-07-05   \n",
       "\n",
       "  Course_Code Student_Name                   github_link   remark  \n",
       "0    COMM7780  CAI Xuejiao  https://github.com/PepperCai  student  \n",
       "1    COMM7780  CAI Xuejiao  https://github.com/PepperCai  student  \n",
       "2    COMM7780  CAI Xuejiao  https://github.com/PepperCai  student  \n",
       "3    COMM7780  CAI Xuejiao  https://github.com/PepperCai  student  \n",
       "4    COMM7780  CAI Xuejiao  https://github.com/PepperCai  student  "
      ]
     },
     "execution_count": 24,
     "metadata": {},
     "output_type": "execute_result"
    }
   ],
   "source": [
    "df_merged.head()"
   ]
  },
  {
   "cell_type": "markdown",
   "metadata": {},
   "source": [
    "### pivot table"
   ]
  },
  {
   "cell_type": "code",
   "execution_count": 25,
   "metadata": {},
   "outputs": [
    {
     "data": {
      "text/plain": [
       "<matplotlib.axes._subplots.AxesSubplot at 0x11b2d9860>"
      ]
     },
     "execution_count": 25,
     "metadata": {},
     "output_type": "execute_result"
    },
    {
     "data": {
      "image/png": "[encoded data removed]",
      "text/plain": [
       "<Figure size 432x288 with 1 Axes>"
      ]
     },
     "metadata": {
      "needs_background": "light"
     },
     "output_type": "display_data"
    }
   ],
   "source": [
    "pd.pivot_table(\n",
    "    df_merged, index='datetime', columns=['Course_Code'], values=['data-count'], aggfunc='sum'\n",
    ").plot()"
   ]
  },
  {
   "cell_type": "code",
   "execution_count": 26,
   "metadata": {},
   "outputs": [
    {
     "data": {
      "text/plain": [
       "<matplotlib.axes._subplots.AxesSubplot at 0x11b3ff630>"
      ]
     },
     "execution_count": 26,
     "metadata": {},
     "output_type": "execute_result"
    },
    {
     "data": {
      "image/png": "[encoded data removed]",
      "text/plain": [
       "<Figure size 432x288 with 1 Axes>"
      ]
     },
     "metadata": {
      "needs_background": "light"
     },
     "output_type": "display_data"
    }
   ],
   "source": [
    "pd.pivot_table(\n",
    "    df_merged, index='datetime', columns=['Course_Code'], values=['data-count'], aggfunc='sum'\n",
    ").resample('1w').aggregate('sum').plot()"
   ]
  },
  {
   "cell_type": "code",
   "execution_count": 27,
   "metadata": {},
   "outputs": [
    {
     "data": {
      "text/html": [
       "<div>\n",
       "<style scoped>\n",
       "    .dataframe tbody tr th:only-of-type {\n",
       "        vertical-align: middle;\n",
       "    }\n",
       "\n",
       "    .dataframe tbody tr th {\n",
       "        vertical-align: top;\n",
       "    }\n",
       "\n",
       "    .dataframe thead tr th {\n",
       "        text-align: left;\n",
       "    }\n",
       "\n",
       "    .dataframe thead tr:last-of-type th {\n",
       "        text-align: right;\n",
       "    }\n",
       "</style>\n",
       "<table border=\"1\" class=\"dataframe\">\n",
       "  <thead>\n",
       "    <tr>\n",
       "      <th></th>\n",
       "      <th colspan=\"2\" halign=\"left\">data-count</th>\n",
       "    </tr>\n",
       "    <tr>\n",
       "      <th>Course_Code</th>\n",
       "      <th>COMM7780</th>\n",
       "      <th>JOUR7280</th>\n",
       "    </tr>\n",
       "    <tr>\n",
       "      <th>datetime</th>\n",
       "      <th></th>\n",
       "      <th></th>\n",
       "    </tr>\n",
       "  </thead>\n",
       "  <tbody>\n",
       "    <tr>\n",
       "      <th>2018-07-01</th>\n",
       "      <td>0</td>\n",
       "      <td>0</td>\n",
       "    </tr>\n",
       "    <tr>\n",
       "      <th>2018-07-15</th>\n",
       "      <td>0</td>\n",
       "      <td>2</td>\n",
       "    </tr>\n",
       "    <tr>\n",
       "      <th>2018-07-29</th>\n",
       "      <td>2</td>\n",
       "      <td>0</td>\n",
       "    </tr>\n",
       "    <tr>\n",
       "      <th>2018-08-12</th>\n",
       "      <td>14</td>\n",
       "      <td>16</td>\n",
       "    </tr>\n",
       "    <tr>\n",
       "      <th>2018-08-26</th>\n",
       "      <td>40</td>\n",
       "      <td>2</td>\n",
       "    </tr>\n",
       "    <tr>\n",
       "      <th>2018-09-09</th>\n",
       "      <td>225</td>\n",
       "      <td>137</td>\n",
       "    </tr>\n",
       "    <tr>\n",
       "      <th>2018-09-23</th>\n",
       "      <td>28</td>\n",
       "      <td>49</td>\n",
       "    </tr>\n",
       "    <tr>\n",
       "      <th>2018-10-07</th>\n",
       "      <td>40</td>\n",
       "      <td>48</td>\n",
       "    </tr>\n",
       "    <tr>\n",
       "      <th>2018-10-21</th>\n",
       "      <td>172</td>\n",
       "      <td>84</td>\n",
       "    </tr>\n",
       "    <tr>\n",
       "      <th>2018-11-04</th>\n",
       "      <td>160</td>\n",
       "      <td>108</td>\n",
       "    </tr>\n",
       "    <tr>\n",
       "      <th>2018-11-18</th>\n",
       "      <td>255</td>\n",
       "      <td>177</td>\n",
       "    </tr>\n",
       "    <tr>\n",
       "      <th>2018-12-02</th>\n",
       "      <td>371</td>\n",
       "      <td>160</td>\n",
       "    </tr>\n",
       "  </tbody>\n",
       "</table>\n",
       "</div>"
      ],
      "text/plain": [
       "            data-count         \n",
       "Course_Code   COMM7780 JOUR7280\n",
       "datetime                       \n",
       "2018-07-01           0        0\n",
       "2018-07-15           0        2\n",
       "2018-07-29           2        0\n",
       "2018-08-12          14       16\n",
       "2018-08-26          40        2\n",
       "2018-09-09         225      137\n",
       "2018-09-23          28       49\n",
       "2018-10-07          40       48\n",
       "2018-10-21         172       84\n",
       "2018-11-04         160      108\n",
       "2018-11-18         255      177\n",
       "2018-12-02         371      160"
      ]
     },
     "execution_count": 27,
     "metadata": {},
     "output_type": "execute_result"
    }
   ],
   "source": [
    "pd.pivot_table(\n",
    "    df_merged, index='datetime', columns=['Course_Code'], values=['data-count'], aggfunc='sum'\n",
    ").resample('2w').aggregate('sum')#.plot()"
   ]
  },
  {
   "cell_type": "markdown",
   "metadata": {},
   "source": [
    "## Number of contributions by person"
   ]
  },
  {
   "cell_type": "code",
   "execution_count": 28,
   "metadata": {},
   "outputs": [
    {
     "data": {
      "text/html": [
       "<div>\n",
       "<style scoped>\n",
       "    .dataframe tbody tr th:only-of-type {\n",
       "        vertical-align: middle;\n",
       "    }\n",
       "\n",
       "    .dataframe tbody tr th {\n",
       "        vertical-align: top;\n",
       "    }\n",
       "\n",
       "    .dataframe thead th {\n",
       "        text-align: right;\n",
       "    }\n",
       "</style>\n",
       "<table border=\"1\" class=\"dataframe\">\n",
       "  <thead>\n",
       "    <tr style=\"text-align: right;\">\n",
       "      <th></th>\n",
       "      <th></th>\n",
       "      <th>data-count</th>\n",
       "    </tr>\n",
       "    <tr>\n",
       "      <th>Student_Name</th>\n",
       "      <th>Course_Code</th>\n",
       "      <th></th>\n",
       "    </tr>\n",
       "  </thead>\n",
       "  <tbody>\n",
       "    <tr>\n",
       "      <th>GAO Chao</th>\n",
       "      <th>COMM7780</th>\n",
       "      <td>265</td>\n",
       "    </tr>\n",
       "    <tr>\n",
       "      <th>LI Chenxi</th>\n",
       "      <th>COMM7780</th>\n",
       "      <td>164</td>\n",
       "    </tr>\n",
       "    <tr>\n",
       "      <th>WANG Ziwei</th>\n",
       "      <th>JOUR7280</th>\n",
       "      <td>118</td>\n",
       "    </tr>\n",
       "    <tr>\n",
       "      <th>YAO Lan</th>\n",
       "      <th>JOUR7280</th>\n",
       "      <td>96</td>\n",
       "    </tr>\n",
       "    <tr>\n",
       "      <th>ZHANG Ning</th>\n",
       "      <th>COMM7780</th>\n",
       "      <td>81</td>\n",
       "    </tr>\n",
       "    <tr>\n",
       "      <th>LIN Yitong</th>\n",
       "      <th>COMM7780</th>\n",
       "      <td>80</td>\n",
       "    </tr>\n",
       "    <tr>\n",
       "      <th>LIU Cong</th>\n",
       "      <th>COMM7780</th>\n",
       "      <td>72</td>\n",
       "    </tr>\n",
       "    <tr>\n",
       "      <th>ZENG Sining</th>\n",
       "      <th>COMM7780</th>\n",
       "      <td>68</td>\n",
       "    </tr>\n",
       "    <tr>\n",
       "      <th>XIE Jieyi</th>\n",
       "      <th>COMM7780</th>\n",
       "      <td>66</td>\n",
       "    </tr>\n",
       "    <tr>\n",
       "      <th>HUANG Xin</th>\n",
       "      <th>COMM7780</th>\n",
       "      <td>62</td>\n",
       "    </tr>\n",
       "    <tr>\n",
       "      <th>ZHANG Jingwei</th>\n",
       "      <th>JOUR7280</th>\n",
       "      <td>60</td>\n",
       "    </tr>\n",
       "    <tr>\n",
       "      <th>XU Wen</th>\n",
       "      <th>JOUR7280</th>\n",
       "      <td>54</td>\n",
       "    </tr>\n",
       "    <tr>\n",
       "      <th>XU Haotian</th>\n",
       "      <th>COMM7780</th>\n",
       "      <td>51</td>\n",
       "    </tr>\n",
       "    <tr>\n",
       "      <th>CHEN Ye</th>\n",
       "      <th>COMM7780</th>\n",
       "      <td>49</td>\n",
       "    </tr>\n",
       "    <tr>\n",
       "      <th>XU Kaiwen</th>\n",
       "      <th>JOUR7280</th>\n",
       "      <td>48</td>\n",
       "    </tr>\n",
       "    <tr>\n",
       "      <th>ZENG Huashan</th>\n",
       "      <th>COMM7780</th>\n",
       "      <td>47</td>\n",
       "    </tr>\n",
       "    <tr>\n",
       "      <th>YU Qing</th>\n",
       "      <th>JOUR7280</th>\n",
       "      <td>46</td>\n",
       "    </tr>\n",
       "    <tr>\n",
       "      <th>ZHANG Shiyu</th>\n",
       "      <th>COMM7780</th>\n",
       "      <td>46</td>\n",
       "    </tr>\n",
       "    <tr>\n",
       "      <th>JIANG Nixuan</th>\n",
       "      <th>JOUR7280</th>\n",
       "      <td>44</td>\n",
       "    </tr>\n",
       "    <tr>\n",
       "      <th>LI Yijie</th>\n",
       "      <th>JOUR7280</th>\n",
       "      <td>40</td>\n",
       "    </tr>\n",
       "    <tr>\n",
       "      <th>ZHANG Huimin</th>\n",
       "      <th>JOUR7280</th>\n",
       "      <td>39</td>\n",
       "    </tr>\n",
       "    <tr>\n",
       "      <th>ZHANG Zichun</th>\n",
       "      <th>JOUR7280</th>\n",
       "      <td>39</td>\n",
       "    </tr>\n",
       "    <tr>\n",
       "      <th>LUO Yi</th>\n",
       "      <th>COMM7780</th>\n",
       "      <td>36</td>\n",
       "    </tr>\n",
       "    <tr>\n",
       "      <th>SHI Yuning</th>\n",
       "      <th>JOUR7280</th>\n",
       "      <td>34</td>\n",
       "    </tr>\n",
       "    <tr>\n",
       "      <th>FENG Yujin</th>\n",
       "      <th>COMM7780</th>\n",
       "      <td>32</td>\n",
       "    </tr>\n",
       "    <tr>\n",
       "      <th>ZHAI Menghan</th>\n",
       "      <th>JOUR7280</th>\n",
       "      <td>30</td>\n",
       "    </tr>\n",
       "    <tr>\n",
       "      <th>HUANG Yangming</th>\n",
       "      <th>COMM7780</th>\n",
       "      <td>29</td>\n",
       "    </tr>\n",
       "    <tr>\n",
       "      <th>HE Wenshu</th>\n",
       "      <th>JOUR7280</th>\n",
       "      <td>29</td>\n",
       "    </tr>\n",
       "    <tr>\n",
       "      <th>CAI Xuejiao</th>\n",
       "      <th>COMM7780</th>\n",
       "      <td>28</td>\n",
       "    </tr>\n",
       "    <tr>\n",
       "      <th>HUANG Ting</th>\n",
       "      <th>COMM7780</th>\n",
       "      <td>24</td>\n",
       "    </tr>\n",
       "    <tr>\n",
       "      <th>YAO Nuan</th>\n",
       "      <th>JOUR7280</th>\n",
       "      <td>23</td>\n",
       "    </tr>\n",
       "    <tr>\n",
       "      <th>ZENG Xingjie</th>\n",
       "      <th>COMM7780</th>\n",
       "      <td>23</td>\n",
       "    </tr>\n",
       "    <tr>\n",
       "      <th>LIN Huiqing</th>\n",
       "      <th>COMM7780</th>\n",
       "      <td>23</td>\n",
       "    </tr>\n",
       "    <tr>\n",
       "      <th>LI Shengnan</th>\n",
       "      <th>JOUR7280</th>\n",
       "      <td>22</td>\n",
       "    </tr>\n",
       "    <tr>\n",
       "      <th>CHEN Mengjie</th>\n",
       "      <th>COMM7780</th>\n",
       "      <td>21</td>\n",
       "    </tr>\n",
       "    <tr>\n",
       "      <th>GU Minyi</th>\n",
       "      <th>COMM7780</th>\n",
       "      <td>20</td>\n",
       "    </tr>\n",
       "    <tr>\n",
       "      <th>DU Jiawei</th>\n",
       "      <th>COMM7780</th>\n",
       "      <td>20</td>\n",
       "    </tr>\n",
       "    <tr>\n",
       "      <th>YANG Lin</th>\n",
       "      <th>JOUR7280</th>\n",
       "      <td>17</td>\n",
       "    </tr>\n",
       "    <tr>\n",
       "      <th>ZHANG Bohan</th>\n",
       "      <th>JOUR7280</th>\n",
       "      <td>16</td>\n",
       "    </tr>\n",
       "    <tr>\n",
       "      <th>JIANG Weiqi</th>\n",
       "      <th>JOUR7280</th>\n",
       "      <td>14</td>\n",
       "    </tr>\n",
       "    <tr>\n",
       "      <th>LI Mengyu</th>\n",
       "      <th>JOUR7280</th>\n",
       "      <td>14</td>\n",
       "    </tr>\n",
       "  </tbody>\n",
       "</table>\n",
       "</div>"
      ],
      "text/plain": [
       "                            data-count\n",
       "Student_Name   Course_Code            \n",
       "GAO Chao       COMM7780            265\n",
       "LI Chenxi      COMM7780            164\n",
       "WANG Ziwei     JOUR7280            118\n",
       "YAO Lan        JOUR7280             96\n",
       "ZHANG Ning     COMM7780             81\n",
       "LIN Yitong     COMM7780             80\n",
       "LIU Cong       COMM7780             72\n",
       "ZENG Sining    COMM7780             68\n",
       "XIE Jieyi      COMM7780             66\n",
       "HUANG Xin      COMM7780             62\n",
       "ZHANG Jingwei  JOUR7280             60\n",
       "XU Wen         JOUR7280             54\n",
       "XU Haotian     COMM7780             51\n",
       "CHEN Ye        COMM7780             49\n",
       "XU Kaiwen      JOUR7280             48\n",
       "ZENG Huashan   COMM7780             47\n",
       "YU Qing        JOUR7280             46\n",
       "ZHANG Shiyu    COMM7780             46\n",
       "JIANG Nixuan   JOUR7280             44\n",
       "LI Yijie       JOUR7280             40\n",
       "ZHANG Huimin   JOUR7280             39\n",
       "ZHANG Zichun   JOUR7280             39\n",
       "LUO Yi         COMM7780             36\n",
       "SHI Yuning     JOUR7280             34\n",
       "FENG Yujin     COMM7780             32\n",
       "ZHAI Menghan   JOUR7280             30\n",
       "HUANG Yangming COMM7780             29\n",
       "HE Wenshu      JOUR7280             29\n",
       "CAI Xuejiao    COMM7780             28\n",
       "HUANG Ting     COMM7780             24\n",
       "YAO Nuan       JOUR7280             23\n",
       "ZENG Xingjie   COMM7780             23\n",
       "LIN Huiqing    COMM7780             23\n",
       "LI Shengnan    JOUR7280             22\n",
       "CHEN Mengjie   COMM7780             21\n",
       "GU Minyi       COMM7780             20\n",
       "DU Jiawei      COMM7780             20\n",
       "YANG Lin       JOUR7280             17\n",
       "ZHANG Bohan    JOUR7280             16\n",
       "JIANG Weiqi    JOUR7280             14\n",
       "LI Mengyu      JOUR7280             14"
      ]
     },
     "execution_count": 28,
     "metadata": {},
     "output_type": "execute_result"
    }
   ],
   "source": [
    "pd.pivot_table(\n",
    "    df_merged, index=['Student_Name', 'Course_Code'], values=['data-count'], aggfunc='sum'\n",
    ").sort_values(by='data-count', ascending=False)"
   ]
  },
  {
   "cell_type": "markdown",
   "metadata": {},
   "source": [
    "## Number of contributions in past week?"
   ]
  },
  {
   "cell_type": "code",
   "execution_count": 29,
   "metadata": {},
   "outputs": [
    {
     "data": {
      "text/plain": [
       "6854"
      ]
     },
     "execution_count": 29,
     "metadata": {},
     "output_type": "execute_result"
    }
   ],
   "source": [
    "len(df_merged)"
   ]
  },
  {
   "cell_type": "code",
   "execution_count": 30,
   "metadata": {},
   "outputs": [
    {
     "data": {
      "text/plain": [
       "'2018-11-16'"
      ]
     },
     "execution_count": 30,
     "metadata": {},
     "output_type": "execute_result"
    }
   ],
   "source": [
    "'2018-11-23'\n",
    "'2018-11-16'"
   ]
  },
  {
   "cell_type": "code",
   "execution_count": 31,
   "metadata": {},
   "outputs": [
    {
     "data": {
      "text/plain": [
       "460"
      ]
     },
     "execution_count": 31,
     "metadata": {},
     "output_type": "execute_result"
    }
   ],
   "source": [
    "len(df_merged[\n",
    "    df_merged['data-date'] > '2018-11-16'\n",
    "])"
   ]
  },
  {
   "cell_type": "markdown",
   "metadata": {},
   "source": [
    "Why can wedo the above string comparison in order to compare two datetime objects?\n",
    "\n",
    "Because we have a canonical format here\n",
    "\n",
    "```\n",
    "yyyymmdd\n",
    "2018-11-05\n",
    "2018-11-12\n",
    "```\n",
    "\n",
    "If not using canonical format, the comparison will yield different result\n",
    "\n",
    "```\n",
    "2018-11-5\n",
    "2018-11-12\n",
    "```"
   ]
  },
  {
   "cell_type": "code",
   "execution_count": 32,
   "metadata": {},
   "outputs": [
    {
     "data": {
      "text/html": [
       "<div>\n",
       "<style scoped>\n",
       "    .dataframe tbody tr th:only-of-type {\n",
       "        vertical-align: middle;\n",
       "    }\n",
       "\n",
       "    .dataframe tbody tr th {\n",
       "        vertical-align: top;\n",
       "    }\n",
       "\n",
       "    .dataframe thead th {\n",
       "        text-align: right;\n",
       "    }\n",
       "</style>\n",
       "<table border=\"1\" class=\"dataframe\">\n",
       "  <thead>\n",
       "    <tr style=\"text-align: right;\">\n",
       "      <th></th>\n",
       "      <th></th>\n",
       "      <th>data-count</th>\n",
       "    </tr>\n",
       "    <tr>\n",
       "      <th>Student_Name</th>\n",
       "      <th>Course_Code</th>\n",
       "      <th></th>\n",
       "    </tr>\n",
       "  </thead>\n",
       "  <tbody>\n",
       "    <tr>\n",
       "      <th>GAO Chao</th>\n",
       "      <th>COMM7780</th>\n",
       "      <td>107</td>\n",
       "    </tr>\n",
       "    <tr>\n",
       "      <th>CHEN Ye</th>\n",
       "      <th>COMM7780</th>\n",
       "      <td>31</td>\n",
       "    </tr>\n",
       "    <tr>\n",
       "      <th>HUANG Xin</th>\n",
       "      <th>COMM7780</th>\n",
       "      <td>26</td>\n",
       "    </tr>\n",
       "    <tr>\n",
       "      <th>SHI Yuning</th>\n",
       "      <th>JOUR7280</th>\n",
       "      <td>23</td>\n",
       "    </tr>\n",
       "    <tr>\n",
       "      <th>ZHANG Huimin</th>\n",
       "      <th>JOUR7280</th>\n",
       "      <td>23</td>\n",
       "    </tr>\n",
       "    <tr>\n",
       "      <th>ZHANG Ning</th>\n",
       "      <th>COMM7780</th>\n",
       "      <td>20</td>\n",
       "    </tr>\n",
       "    <tr>\n",
       "      <th>XIE Jieyi</th>\n",
       "      <th>COMM7780</th>\n",
       "      <td>18</td>\n",
       "    </tr>\n",
       "    <tr>\n",
       "      <th>LI Yijie</th>\n",
       "      <th>JOUR7280</th>\n",
       "      <td>18</td>\n",
       "    </tr>\n",
       "    <tr>\n",
       "      <th>LI Chenxi</th>\n",
       "      <th>COMM7780</th>\n",
       "      <td>17</td>\n",
       "    </tr>\n",
       "    <tr>\n",
       "      <th>ZENG Huashan</th>\n",
       "      <th>COMM7780</th>\n",
       "      <td>17</td>\n",
       "    </tr>\n",
       "    <tr>\n",
       "      <th>WANG Ziwei</th>\n",
       "      <th>JOUR7280</th>\n",
       "      <td>16</td>\n",
       "    </tr>\n",
       "    <tr>\n",
       "      <th>ZENG Sining</th>\n",
       "      <th>COMM7780</th>\n",
       "      <td>15</td>\n",
       "    </tr>\n",
       "    <tr>\n",
       "      <th>XU Kaiwen</th>\n",
       "      <th>JOUR7280</th>\n",
       "      <td>14</td>\n",
       "    </tr>\n",
       "    <tr>\n",
       "      <th>ZENG Xingjie</th>\n",
       "      <th>COMM7780</th>\n",
       "      <td>14</td>\n",
       "    </tr>\n",
       "    <tr>\n",
       "      <th>FENG Yujin</th>\n",
       "      <th>COMM7780</th>\n",
       "      <td>14</td>\n",
       "    </tr>\n",
       "    <tr>\n",
       "      <th>LIU Cong</th>\n",
       "      <th>COMM7780</th>\n",
       "      <td>13</td>\n",
       "    </tr>\n",
       "    <tr>\n",
       "      <th>LIN Yitong</th>\n",
       "      <th>COMM7780</th>\n",
       "      <td>12</td>\n",
       "    </tr>\n",
       "    <tr>\n",
       "      <th>XU Haotian</th>\n",
       "      <th>COMM7780</th>\n",
       "      <td>12</td>\n",
       "    </tr>\n",
       "    <tr>\n",
       "      <th>XU Wen</th>\n",
       "      <th>JOUR7280</th>\n",
       "      <td>11</td>\n",
       "    </tr>\n",
       "    <tr>\n",
       "      <th>LI Shengnan</th>\n",
       "      <th>JOUR7280</th>\n",
       "      <td>11</td>\n",
       "    </tr>\n",
       "    <tr>\n",
       "      <th>CAI Xuejiao</th>\n",
       "      <th>COMM7780</th>\n",
       "      <td>11</td>\n",
       "    </tr>\n",
       "    <tr>\n",
       "      <th>YAO Lan</th>\n",
       "      <th>JOUR7280</th>\n",
       "      <td>10</td>\n",
       "    </tr>\n",
       "    <tr>\n",
       "      <th>GU Minyi</th>\n",
       "      <th>COMM7780</th>\n",
       "      <td>9</td>\n",
       "    </tr>\n",
       "    <tr>\n",
       "      <th>LIN Huiqing</th>\n",
       "      <th>COMM7780</th>\n",
       "      <td>8</td>\n",
       "    </tr>\n",
       "    <tr>\n",
       "      <th>YU Qing</th>\n",
       "      <th>JOUR7280</th>\n",
       "      <td>8</td>\n",
       "    </tr>\n",
       "    <tr>\n",
       "      <th>DU Jiawei</th>\n",
       "      <th>COMM7780</th>\n",
       "      <td>8</td>\n",
       "    </tr>\n",
       "    <tr>\n",
       "      <th>YAO Nuan</th>\n",
       "      <th>JOUR7280</th>\n",
       "      <td>7</td>\n",
       "    </tr>\n",
       "    <tr>\n",
       "      <th>LI Mengyu</th>\n",
       "      <th>JOUR7280</th>\n",
       "      <td>6</td>\n",
       "    </tr>\n",
       "    <tr>\n",
       "      <th>ZHANG Zichun</th>\n",
       "      <th>JOUR7280</th>\n",
       "      <td>5</td>\n",
       "    </tr>\n",
       "    <tr>\n",
       "      <th>JIANG Nixuan</th>\n",
       "      <th>JOUR7280</th>\n",
       "      <td>5</td>\n",
       "    </tr>\n",
       "    <tr>\n",
       "      <th>HUANG Ting</th>\n",
       "      <th>COMM7780</th>\n",
       "      <td>5</td>\n",
       "    </tr>\n",
       "    <tr>\n",
       "      <th>CHEN Mengjie</th>\n",
       "      <th>COMM7780</th>\n",
       "      <td>4</td>\n",
       "    </tr>\n",
       "    <tr>\n",
       "      <th>HUANG Yangming</th>\n",
       "      <th>COMM7780</th>\n",
       "      <td>4</td>\n",
       "    </tr>\n",
       "    <tr>\n",
       "      <th>ZHAI Menghan</th>\n",
       "      <th>JOUR7280</th>\n",
       "      <td>4</td>\n",
       "    </tr>\n",
       "    <tr>\n",
       "      <th>LUO Yi</th>\n",
       "      <th>COMM7780</th>\n",
       "      <td>4</td>\n",
       "    </tr>\n",
       "    <tr>\n",
       "      <th>ZHANG Bohan</th>\n",
       "      <th>JOUR7280</th>\n",
       "      <td>3</td>\n",
       "    </tr>\n",
       "    <tr>\n",
       "      <th>ZHANG Jingwei</th>\n",
       "      <th>JOUR7280</th>\n",
       "      <td>3</td>\n",
       "    </tr>\n",
       "    <tr>\n",
       "      <th>ZHANG Shiyu</th>\n",
       "      <th>COMM7780</th>\n",
       "      <td>3</td>\n",
       "    </tr>\n",
       "    <tr>\n",
       "      <th>YANG Lin</th>\n",
       "      <th>JOUR7280</th>\n",
       "      <td>2</td>\n",
       "    </tr>\n",
       "    <tr>\n",
       "      <th>HE Wenshu</th>\n",
       "      <th>JOUR7280</th>\n",
       "      <td>2</td>\n",
       "    </tr>\n",
       "    <tr>\n",
       "      <th>JIANG Weiqi</th>\n",
       "      <th>JOUR7280</th>\n",
       "      <td>1</td>\n",
       "    </tr>\n",
       "  </tbody>\n",
       "</table>\n",
       "</div>"
      ],
      "text/plain": [
       "                            data-count\n",
       "Student_Name   Course_Code            \n",
       "GAO Chao       COMM7780            107\n",
       "CHEN Ye        COMM7780             31\n",
       "HUANG Xin      COMM7780             26\n",
       "SHI Yuning     JOUR7280             23\n",
       "ZHANG Huimin   JOUR7280             23\n",
       "ZHANG Ning     COMM7780             20\n",
       "XIE Jieyi      COMM7780             18\n",
       "LI Yijie       JOUR7280             18\n",
       "LI Chenxi      COMM7780             17\n",
       "ZENG Huashan   COMM7780             17\n",
       "WANG Ziwei     JOUR7280             16\n",
       "ZENG Sining    COMM7780             15\n",
       "XU Kaiwen      JOUR7280             14\n",
       "ZENG Xingjie   COMM7780             14\n",
       "FENG Yujin     COMM7780             14\n",
       "LIU Cong       COMM7780             13\n",
       "LIN Yitong     COMM7780             12\n",
       "XU Haotian     COMM7780             12\n",
       "XU Wen         JOUR7280             11\n",
       "LI Shengnan    JOUR7280             11\n",
       "CAI Xuejiao    COMM7780             11\n",
       "YAO Lan        JOUR7280             10\n",
       "GU Minyi       COMM7780              9\n",
       "LIN Huiqing    COMM7780              8\n",
       "YU Qing        JOUR7280              8\n",
       "DU Jiawei      COMM7780              8\n",
       "YAO Nuan       JOUR7280              7\n",
       "LI Mengyu      JOUR7280              6\n",
       "ZHANG Zichun   JOUR7280              5\n",
       "JIANG Nixuan   JOUR7280              5\n",
       "HUANG Ting     COMM7780              5\n",
       "CHEN Mengjie   COMM7780              4\n",
       "HUANG Yangming COMM7780              4\n",
       "ZHAI Menghan   JOUR7280              4\n",
       "LUO Yi         COMM7780              4\n",
       "ZHANG Bohan    JOUR7280              3\n",
       "ZHANG Jingwei  JOUR7280              3\n",
       "ZHANG Shiyu    COMM7780              3\n",
       "YANG Lin       JOUR7280              2\n",
       "HE Wenshu      JOUR7280              2\n",
       "JIANG Weiqi    JOUR7280              1"
      ]
     },
     "execution_count": 32,
     "metadata": {},
     "output_type": "execute_result"
    }
   ],
   "source": [
    "# step 1:\n",
    "# df_merged <-- contributions in past week\n",
    "\n",
    "df_past_week = df_merged[\n",
    "    df_merged['data-date'] > '2018-11-16'\n",
    "]\n",
    "\n",
    "# step 2:\n",
    "pd.pivot_table(\n",
    "    df_past_week, index=['Student_Name', 'Course_Code'], values=['data-count'], aggfunc='sum'\n",
    ").sort_values(by='data-count', ascending=False)"
   ]
  },
  {
   "cell_type": "markdown",
   "metadata": {},
   "source": [
    "### Compare time in a more rigorous way"
   ]
  },
  {
   "cell_type": "code",
   "execution_count": 33,
   "metadata": {},
   "outputs": [
    {
     "data": {
      "text/plain": [
       "pandas._libs.tslibs.timestamps.Timestamp"
      ]
     },
     "execution_count": 33,
     "metadata": {},
     "output_type": "execute_result"
    }
   ],
   "source": [
    "type(df['datetime'][0])"
   ]
  },
  {
   "cell_type": "code",
   "execution_count": 34,
   "metadata": {},
   "outputs": [
    {
     "data": {
      "text/plain": [
       "str"
      ]
     },
     "execution_count": 34,
     "metadata": {},
     "output_type": "execute_result"
    }
   ],
   "source": [
    "type(df['data-date'][0])"
   ]
  },
  {
   "cell_type": "code",
   "execution_count": 35,
   "metadata": {},
   "outputs": [],
   "source": [
    "a = df['datetime'][0]"
   ]
  },
  {
   "cell_type": "code",
   "execution_count": 36,
   "metadata": {},
   "outputs": [
    {
     "data": {
      "text/plain": [
       "Timestamp('2018-07-01 00:00:00')"
      ]
     },
     "execution_count": 36,
     "metadata": {},
     "output_type": "execute_result"
    }
   ],
   "source": [
    "a"
   ]
  },
  {
   "cell_type": "code",
   "execution_count": 37,
   "metadata": {},
   "outputs": [],
   "source": [
    "import datetime"
   ]
  },
  {
   "cell_type": "code",
   "execution_count": 38,
   "metadata": {},
   "outputs": [],
   "source": [
    "b = datetime.datetime(2018, 8, 2)"
   ]
  },
  {
   "cell_type": "code",
   "execution_count": 39,
   "metadata": {},
   "outputs": [
    {
     "data": {
      "text/plain": [
       "Timestamp('2018-07-01 00:00:00')"
      ]
     },
     "execution_count": 39,
     "metadata": {},
     "output_type": "execute_result"
    }
   ],
   "source": [
    "a"
   ]
  },
  {
   "cell_type": "code",
   "execution_count": 40,
   "metadata": {},
   "outputs": [
    {
     "data": {
      "text/plain": [
       "datetime.datetime(2018, 8, 2, 0, 0)"
      ]
     },
     "execution_count": 40,
     "metadata": {},
     "output_type": "execute_result"
    }
   ],
   "source": [
    "b"
   ]
  },
  {
   "cell_type": "code",
   "execution_count": 41,
   "metadata": {},
   "outputs": [
    {
     "data": {
      "text/plain": [
       "True"
      ]
     },
     "execution_count": 41,
     "metadata": {},
     "output_type": "execute_result"
    }
   ],
   "source": [
    "a < b"
   ]
  },
  {
   "cell_type": "code",
   "execution_count": 42,
   "metadata": {},
   "outputs": [],
   "source": [
    "b = datetime.datetime(2018, 7, 3)"
   ]
  },
  {
   "cell_type": "code",
   "execution_count": 43,
   "metadata": {},
   "outputs": [
    {
     "data": {
      "text/plain": [
       "True"
      ]
     },
     "execution_count": 43,
     "metadata": {},
     "output_type": "execute_result"
    }
   ],
   "source": [
    "a < b"
   ]
  },
  {
   "cell_type": "code",
   "execution_count": 44,
   "metadata": {},
   "outputs": [],
   "source": [
    "a = datetime.datetime(2018, 11, 5, 21)\n",
    "b = datetime.datetime(2018, 11, 5, 22)"
   ]
  },
  {
   "cell_type": "code",
   "execution_count": 45,
   "metadata": {},
   "outputs": [
    {
     "data": {
      "text/plain": [
       "True"
      ]
     },
     "execution_count": 45,
     "metadata": {},
     "output_type": "execute_result"
    }
   ],
   "source": [
    "a < b"
   ]
  }
 ],
 "metadata": {
  "kernelspec": {
   "display_name": "Python 3",
   "language": "python",
   "name": "python3"
  },
  "language_info": {
   "codemirror_mode": {
    "name": "ipython",
    "version": 3
   },
   "file_extension": ".py",
   "mimetype": "text/x-python",
   "name": "python",
   "nbconvert_exporter": "python",
   "pygments_lexer": "ipython3",
   "version": "3.7.0"
  }
 },
 "nbformat": 4,
 "nbformat_minor": 2
}
